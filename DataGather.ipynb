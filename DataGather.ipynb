{
 "cells": [
  {
   "cell_type": "code",
   "execution_count": 1,
   "id": "d9590981-f9c8-47f7-a2ff-f9d50e486172",
   "metadata": {},
   "outputs": [],
   "source": [
    "import pandas as pd\n",
    "import numpy as np\n",
    "import gc\n",
    "\n",
    "from APIHandlers import Alpha_Vantage_Handle"
   ]
  },
  {
   "cell_type": "code",
   "execution_count": 2,
   "id": "8237b990-5d51-443a-820a-3eaefeda92fb",
   "metadata": {},
   "outputs": [],
   "source": [
    "handler = Alpha_Vantage_Handle()\n",
    "TSLA = handler.get_time_daily(ticker='TSLA', outputsize='full')\n",
    "MSFT = handler.get_time_daily(ticker='MSFT', outputsize='full')\n",
    "AAPL = handler.get_time_daily(ticker='AAPL', outputsize='full')\n",
    "GOOG = handler.get_time_daily(ticker='GOOG', outputsize='full')\n",
    "AMZN = handler.get_time_daily(ticker='AMZN', outputsize='full')\n",
    "NVDA = handler.get_time_daily(ticker='NVDA', outputsize='full')\n",
    "JPM = handler.get_time_daily(ticker='JPM', outputsize='full')\n",
    "PNC = handler.get_time_daily(ticker='PNC', outputsize='full')\n",
    "V = handler.get_time_daily(ticker='V', outputsize='full')\n",
    "META = handler.get_time_daily(ticker='META', outputsize='full')"
   ]
  },
  {
   "cell_type": "code",
   "execution_count": 66,
   "id": "942b4534-8efa-4317-92aa-dabe1fd645a9",
   "metadata": {},
   "outputs": [],
   "source": [
    "symbol_list = ['TSLA', 'MSFT', 'AAPL', 'GOOG', 'AMZN', 'NVDA', 'JPM', 'PNC', 'V', 'META']\n",
    "df_list = [TSLA, MSFT, AAPL, GOOG, AMZN, NVDA, JPM, PNC, V, META]"
   ]
  },
  {
   "cell_type": "code",
   "execution_count": 149,
   "id": "cf118bd7-8fd1-48e9-b0cc-f32f605850f1",
   "metadata": {},
   "outputs": [],
   "source": [
    "df = pd.DataFrame()"
   ]
  },
  {
   "cell_type": "code",
   "execution_count": 150,
   "id": "b76886f4-dc5c-4f08-b579-469fc1f6621f",
   "metadata": {},
   "outputs": [],
   "source": [
    "for idx, d in enumerate(df_list[:5]):\n",
    "    temp_df = pd.DataFrame().from_dict(d.json()['Time Series (Daily)'], orient='index')\n",
    "    temp_df.columns = ['Open', 'High', 'Low', 'Close', 'Volume']\n",
    "    temp_df = temp_df.rename_axis('Date').reset_index()\n",
    "    temp_df['Symbol'] = d.json()['Meta Data']['2. Symbol']\n",
    "    df = pd.concat([df, temp_df])"
   ]
  },
  {
   "cell_type": "code",
   "execution_count": 151,
   "id": "38ca0ec6-fabc-4135-bea6-21db40e9df1e",
   "metadata": {},
   "outputs": [
    {
     "data": {
      "text/html": [
       "<div>\n",
       "<style scoped>\n",
       "    .dataframe tbody tr th:only-of-type {\n",
       "        vertical-align: middle;\n",
       "    }\n",
       "\n",
       "    .dataframe tbody tr th {\n",
       "        vertical-align: top;\n",
       "    }\n",
       "\n",
       "    .dataframe thead th {\n",
       "        text-align: right;\n",
       "    }\n",
       "</style>\n",
       "<table border=\"1\" class=\"dataframe\">\n",
       "  <thead>\n",
       "    <tr style=\"text-align: right;\">\n",
       "      <th></th>\n",
       "      <th>Date</th>\n",
       "      <th>Open</th>\n",
       "      <th>High</th>\n",
       "      <th>Low</th>\n",
       "      <th>Close</th>\n",
       "      <th>Volume</th>\n",
       "      <th>Symbol</th>\n",
       "    </tr>\n",
       "  </thead>\n",
       "  <tbody>\n",
       "    <tr>\n",
       "      <th>0</th>\n",
       "      <td>2023-04-04</td>\n",
       "      <td>197.3200</td>\n",
       "      <td>198.7446</td>\n",
       "      <td>190.3200</td>\n",
       "      <td>192.5800</td>\n",
       "      <td>126463845</td>\n",
       "      <td>TSLA</td>\n",
       "    </tr>\n",
       "    <tr>\n",
       "      <th>1</th>\n",
       "      <td>2023-04-03</td>\n",
       "      <td>199.9100</td>\n",
       "      <td>202.6897</td>\n",
       "      <td>192.2000</td>\n",
       "      <td>194.7700</td>\n",
       "      <td>169545900</td>\n",
       "      <td>TSLA</td>\n",
       "    </tr>\n",
       "    <tr>\n",
       "      <th>2</th>\n",
       "      <td>2023-03-31</td>\n",
       "      <td>197.5300</td>\n",
       "      <td>207.7900</td>\n",
       "      <td>197.2000</td>\n",
       "      <td>207.4600</td>\n",
       "      <td>170222118</td>\n",
       "      <td>TSLA</td>\n",
       "    </tr>\n",
       "    <tr>\n",
       "      <th>3</th>\n",
       "      <td>2023-03-30</td>\n",
       "      <td>195.5800</td>\n",
       "      <td>197.3300</td>\n",
       "      <td>194.4200</td>\n",
       "      <td>195.2800</td>\n",
       "      <td>110252238</td>\n",
       "      <td>TSLA</td>\n",
       "    </tr>\n",
       "    <tr>\n",
       "      <th>4</th>\n",
       "      <td>2023-03-29</td>\n",
       "      <td>193.1300</td>\n",
       "      <td>195.2900</td>\n",
       "      <td>189.4400</td>\n",
       "      <td>193.8800</td>\n",
       "      <td>123660026</td>\n",
       "      <td>TSLA</td>\n",
       "    </tr>\n",
       "    <tr>\n",
       "      <th>...</th>\n",
       "      <td>...</td>\n",
       "      <td>...</td>\n",
       "      <td>...</td>\n",
       "      <td>...</td>\n",
       "      <td>...</td>\n",
       "      <td>...</td>\n",
       "      <td>...</td>\n",
       "    </tr>\n",
       "    <tr>\n",
       "      <th>5889</th>\n",
       "      <td>1999-11-05</td>\n",
       "      <td>64.7500</td>\n",
       "      <td>65.5000</td>\n",
       "      <td>62.2500</td>\n",
       "      <td>64.9400</td>\n",
       "      <td>11091400</td>\n",
       "      <td>AMZN</td>\n",
       "    </tr>\n",
       "    <tr>\n",
       "      <th>5890</th>\n",
       "      <td>1999-11-04</td>\n",
       "      <td>67.1900</td>\n",
       "      <td>67.1900</td>\n",
       "      <td>61.0000</td>\n",
       "      <td>63.0600</td>\n",
       "      <td>16759200</td>\n",
       "      <td>AMZN</td>\n",
       "    </tr>\n",
       "    <tr>\n",
       "      <th>5891</th>\n",
       "      <td>1999-11-03</td>\n",
       "      <td>68.1900</td>\n",
       "      <td>68.5000</td>\n",
       "      <td>65.0000</td>\n",
       "      <td>65.8100</td>\n",
       "      <td>10772100</td>\n",
       "      <td>AMZN</td>\n",
       "    </tr>\n",
       "    <tr>\n",
       "      <th>5892</th>\n",
       "      <td>1999-11-02</td>\n",
       "      <td>69.7500</td>\n",
       "      <td>70.0000</td>\n",
       "      <td>65.0600</td>\n",
       "      <td>66.4400</td>\n",
       "      <td>13243200</td>\n",
       "      <td>AMZN</td>\n",
       "    </tr>\n",
       "    <tr>\n",
       "      <th>5893</th>\n",
       "      <td>1999-11-01</td>\n",
       "      <td>68.0600</td>\n",
       "      <td>71.8800</td>\n",
       "      <td>66.3100</td>\n",
       "      <td>69.1300</td>\n",
       "      <td>12824100</td>\n",
       "      <td>AMZN</td>\n",
       "    </tr>\n",
       "  </tbody>\n",
       "</table>\n",
       "<p>23168 rows × 7 columns</p>\n",
       "</div>"
      ],
      "text/plain": [
       "            Date      Open      High       Low     Close     Volume Symbol\n",
       "0     2023-04-04  197.3200  198.7446  190.3200  192.5800  126463845   TSLA\n",
       "1     2023-04-03  199.9100  202.6897  192.2000  194.7700  169545900   TSLA\n",
       "2     2023-03-31  197.5300  207.7900  197.2000  207.4600  170222118   TSLA\n",
       "3     2023-03-30  195.5800  197.3300  194.4200  195.2800  110252238   TSLA\n",
       "4     2023-03-29  193.1300  195.2900  189.4400  193.8800  123660026   TSLA\n",
       "...          ...       ...       ...       ...       ...        ...    ...\n",
       "5889  1999-11-05   64.7500   65.5000   62.2500   64.9400   11091400   AMZN\n",
       "5890  1999-11-04   67.1900   67.1900   61.0000   63.0600   16759200   AMZN\n",
       "5891  1999-11-03   68.1900   68.5000   65.0000   65.8100   10772100   AMZN\n",
       "5892  1999-11-02   69.7500   70.0000   65.0600   66.4400   13243200   AMZN\n",
       "5893  1999-11-01   68.0600   71.8800   66.3100   69.1300   12824100   AMZN\n",
       "\n",
       "[23168 rows x 7 columns]"
      ]
     },
     "execution_count": 151,
     "metadata": {},
     "output_type": "execute_result"
    }
   ],
   "source": [
    "df"
   ]
  },
  {
   "cell_type": "code",
   "execution_count": 152,
   "id": "03e788fc-08c2-4ace-8e9e-938f50e9c9fd",
   "metadata": {},
   "outputs": [
    {
     "name": "stdout",
     "output_type": "stream",
     "text": [
      "<class 'pandas.core.frame.DataFrame'>\n",
      "Int64Index: 23168 entries, 0 to 5893\n",
      "Data columns (total 7 columns):\n",
      " #   Column  Non-Null Count  Dtype \n",
      "---  ------  --------------  ----- \n",
      " 0   Date    23168 non-null  object\n",
      " 1   Open    23168 non-null  object\n",
      " 2   High    23168 non-null  object\n",
      " 3   Low     23168 non-null  object\n",
      " 4   Close   23168 non-null  object\n",
      " 5   Volume  23168 non-null  object\n",
      " 6   Symbol  23168 non-null  object\n",
      "dtypes: object(7)\n",
      "memory usage: 1.4+ MB\n"
     ]
    }
   ],
   "source": [
    "df.info()"
   ]
  },
  {
   "cell_type": "code",
   "execution_count": 153,
   "id": "3fc8455a-d37e-4533-b2f9-1433cb6206c9",
   "metadata": {},
   "outputs": [],
   "source": [
    "df['Date'] = pd.to_datetime(df['Date'])\n",
    "for c in df.columns[1:-1]:\n",
    "    df[c] = df[c].astype('float')"
   ]
  },
  {
   "cell_type": "code",
   "execution_count": 154,
   "id": "bfd2935b-bdfc-44a0-b953-5e8558b492fa",
   "metadata": {},
   "outputs": [
    {
     "name": "stdout",
     "output_type": "stream",
     "text": [
      "<class 'pandas.core.frame.DataFrame'>\n",
      "Int64Index: 23168 entries, 0 to 5893\n",
      "Data columns (total 7 columns):\n",
      " #   Column  Non-Null Count  Dtype         \n",
      "---  ------  --------------  -----         \n",
      " 0   Date    23168 non-null  datetime64[ns]\n",
      " 1   Open    23168 non-null  float64       \n",
      " 2   High    23168 non-null  float64       \n",
      " 3   Low     23168 non-null  float64       \n",
      " 4   Close   23168 non-null  float64       \n",
      " 5   Volume  23168 non-null  float64       \n",
      " 6   Symbol  23168 non-null  object        \n",
      "dtypes: datetime64[ns](1), float64(5), object(1)\n",
      "memory usage: 1.4+ MB\n"
     ]
    }
   ],
   "source": [
    "df.info()"
   ]
  },
  {
   "cell_type": "code",
   "execution_count": 156,
   "id": "b74ac465-fd7b-4555-8465-57d73e1cefac",
   "metadata": {},
   "outputs": [],
   "source": [
    "df.to_csv('Data/ticker_dailys.csv')"
   ]
  }
 ],
 "metadata": {
  "kernelspec": {
   "display_name": "Python 3 (ipykernel)",
   "language": "python",
   "name": "python3"
  },
  "language_info": {
   "codemirror_mode": {
    "name": "ipython",
    "version": 3
   },
   "file_extension": ".py",
   "mimetype": "text/x-python",
   "name": "python",
   "nbconvert_exporter": "python",
   "pygments_lexer": "ipython3",
   "version": "3.10.5"
  }
 },
 "nbformat": 4,
 "nbformat_minor": 5
}
